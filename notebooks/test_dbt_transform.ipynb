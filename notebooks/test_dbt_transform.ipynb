{
 "cells": [
  {
   "cell_type": "code",
   "execution_count": 34,
   "id": "5ff66992-070c-4ccb-9a71-e2a93ef9f5eb",
   "metadata": {},
   "outputs": [],
   "source": [
    "import pyspark\n",
    "from pyspark.sql import SparkSession\n",
    "from pyspark.conf import SparkConf\n",
    "from pyspark.context import SparkContext\n",
    "\n",
    "from pyspark.sql.types import StringType\n",
    "from pyspark.sql import functions as F\n",
    "import pyspark.sql.types as T\n",
    "from pyspark.sql.types import StructType, StructField, StringType\n",
    "from textblob import TextBlob"
   ]
  },
  {
   "cell_type": "code",
   "execution_count": 4,
   "id": "836d94f5-732c-45a2-a522-d5c85ecdee44",
   "metadata": {},
   "outputs": [],
   "source": [
    "# credentials_location = '/home/faisal/my_projects/de-reddit-reports/keys/de-reddit-reports-f9479aba34a3.json'\n",
    "credentials_location = '/home/faisal/.gc/ny-rides.json'\n",
    "\n",
    "conf = SparkConf() \\\n",
    "    .setMaster('local[*]') \\\n",
    "    .setAppName('test') \\\n",
    "    .set(\"spark.jars\", \"../lib/gcs-connector-hadoop3-2.2.5.jar, ../lib/spark-3.5-bigquery-0.36.1.jar\") \\\n",
    "    .set(\"spark.hadoop.google.cloud.auth.service.account.enable\", \"true\") \\\n",
    "    .set(\"spark.hadoop.google.cloud.auth.service.account.json.keyfile\", credentials_location) "
   ]
  },
  {
   "cell_type": "code",
   "execution_count": 5,
   "id": "b90a20b0-036f-4c59-aa9e-a13f708b5077",
   "metadata": {},
   "outputs": [
    {
     "name": "stdout",
     "output_type": "stream",
     "text": [
      "Default Project ID: No default project configured\n"
     ]
    }
   ],
   "source": [
    "default_project_id = conf.get(\"spark.hadoop.google.cloud.project.id\", \"No default project configured\")\n",
    "print(\"Default Project ID:\", default_project_id)"
   ]
  },
  {
   "cell_type": "code",
   "execution_count": 6,
   "id": "ed621c5b-1189-4cbc-a22e-354417f546a9",
   "metadata": {},
   "outputs": [
    {
     "name": "stderr",
     "output_type": "stream",
     "text": [
      "24/03/07 20:52:43 WARN NativeCodeLoader: Unable to load native-hadoop library for your platform... using builtin-java classes where applicable\n",
      "Setting default log level to \"WARN\".\n",
      "To adjust logging level use sc.setLogLevel(newLevel). For SparkR, use setLogLevel(newLevel).\n"
     ]
    }
   ],
   "source": [
    "sc = SparkContext(conf=conf)\n",
    "\n",
    "hadoop_conf = sc._jsc.hadoopConfiguration()\n",
    "\n",
    "hadoop_conf.set(\"fs.AbstractFileSystem.gs.impl\",  \"com.google.cloud.hadoop.fs.gcs.GoogleHadoopFS\")\n",
    "hadoop_conf.set(\"fs.gs.impl\", \"com.google.cloud.hadoop.fs.gcs.GoogleHadoopFileSystem\")\n",
    "hadoop_conf.set(\"fs.gs.auth.service.account.json.keyfile\", credentials_location)\n",
    "hadoop_conf.set(\"fs.gs.auth.service.account.enable\", \"true\")"
   ]
  },
  {
   "cell_type": "code",
   "execution_count": 7,
   "id": "eccaaf31-b764-4142-8f60-3d03d88d4bc1",
   "metadata": {},
   "outputs": [],
   "source": [
    "spark = SparkSession.builder \\\n",
    "    .config(conf=sc.getConf()) \\\n",
    "    .getOrCreate()"
   ]
  },
  {
   "cell_type": "code",
   "execution_count": 8,
   "id": "aa3f6ddf-3d25-42b6-a195-753ea3e04fa2",
   "metadata": {},
   "outputs": [],
   "source": [
    "spark.conf.set('temporaryGcsBucket', 'dataproc-staging-na-northeast1-667281304179-9us80iur')"
   ]
  },
  {
   "cell_type": "code",
   "execution_count": 16,
   "id": "cc416a6c-4a4c-46c8-a998-0466768b9def",
   "metadata": {},
   "outputs": [],
   "source": [
    "# df_post = (spark.read\n",
    "#            .parquet('gs://reddit-terra-bucket/subreddit/dataengineering/staging/post_comment/2024/2/24/post_comment.parquet')\n",
    "#           )"
   ]
  },
  {
   "cell_type": "code",
   "execution_count": 35,
   "id": "77964170-2588-4935-9d68-e8ad43a4fc8c",
   "metadata": {},
   "outputs": [],
   "source": [
    "schema = StructType([\n",
    "    StructField(\"title\", StringType(), True),\n",
    "    StructField(\"score\", StringType(), True),\n",
    "    StructField(\"num_comments\", StringType(), True),\n",
    "    StructField(\"post_author\", StringType(), True),\n",
    "    StructField(\"post_created_utc\", StringType(), True),\n",
    "    StructField(\"url\", StringType(), True),\n",
    "    StructField(\"upvote_ratio\", StringType(), True),\n",
    "    StructField(\"over_18\", StringType(), True),\n",
    "    StructField(\"edited\", StringType(), True),\n",
    "    StructField(\"spoiler\", StringType(), True),\n",
    "    StructField(\"stickied\", StringType(), True),\n",
    "    StructField(\"selftext\", StringType(), True),\n",
    "    StructField(\"post_sentiment_score\", StringType(), True),\n",
    "    StructField(\"post_sentiment_label\", StringType(), True),\n",
    "    StructField(\"comment_id\", StringType(), True),\n",
    "    StructField(\"comment_body\", StringType(), True),\n",
    "    StructField(\"comment_author\", StringType(), True),\n",
    "    StructField(\"comment_created_utc\", StringType(), True),\n",
    "    StructField(\"comment_score\", StringType(), True),\n",
    "    StructField(\"comment_edited\", StringType(), True),\n",
    "    StructField(\"comment_stickied\", StringType(), True),\n",
    "    StructField(\"comment_parent_id\", StringType(), True),\n",
    "    StructField(\"comment_num_replies\", StringType(), True),\n",
    "    StructField(\"permalink\", StringType(), True),\n",
    "    StructField(\"comment_sentiment_score\", StringType(), True),\n",
    "    StructField(\"comment_sentiment_label\", StringType(), True),\n",
    "    StructField(\"post_id\", StringType(), True)\n",
    "])\n",
    "\n",
    "# Sample data\n",
    "data = [(\"Sample Title\", \"10\", \"5\", \"Author\", \"2024-03-07\", \"https://example.com\", \"0.8\", \"false\", \"false\", \"false\", \"false\", \"Sample selftext\", \"0.5\", \"positive\", \"krtngi5\", \"Sample comment\", \"Comment Author\", \"2024-03-07\", \"5\", \"false\", \"false\", \"1ay98md\", \"2\", \"https://example.com/permalink\", \"0.7\", \"positive\", \"1ay98md\"),\n",
    "        (\"Sample Title\", \"10\", \"5\", \"Author\", \"2024-03-07\", \"https://example.com\", \"0.8\", \"false\", \"false\", \"false\", \"false\", \"Sample selftext\", \"0.5\", \"positive\", \"krtjxjq\", \"Sample comment\", \"Comment Author\", \"2024-03-07\", \"5\", \"false\", \"false\", \"1ay98md\", \"999\", \"https://example.com/permalink\", \"0.7\", \"positive\", \"1ay98md\")\n",
    "       ]\n",
    "\n",
    "# Create DataFrame\n",
    "df_post = spark.createDataFrame(data, schema=schema)"
   ]
  },
  {
   "cell_type": "code",
   "execution_count": 36,
   "id": "392cff27-6270-4a6d-9533-b745096bfacb",
   "metadata": {},
   "outputs": [
    {
     "name": "stderr",
     "output_type": "stream",
     "text": [
      "                                                                                \r"
     ]
    },
    {
     "name": "stdout",
     "output_type": "stream",
     "text": [
      "+------------+-----+------------+-----------+----------------+-------------------+------------+-------+------+-------+--------+---------------+--------------------+--------------------+----------+--------------+--------------+-------------------+-------------+--------------+----------------+-----------------+-------------------+--------------------+-----------------------+-----------------------+-------+\n",
      "|       title|score|num_comments|post_author|post_created_utc|                url|upvote_ratio|over_18|edited|spoiler|stickied|       selftext|post_sentiment_score|post_sentiment_label|comment_id|  comment_body|comment_author|comment_created_utc|comment_score|comment_edited|comment_stickied|comment_parent_id|comment_num_replies|           permalink|comment_sentiment_score|comment_sentiment_label|post_id|\n",
      "+------------+-----+------------+-----------+----------------+-------------------+------------+-------+------+-------+--------+---------------+--------------------+--------------------+----------+--------------+--------------+-------------------+-------------+--------------+----------------+-----------------+-------------------+--------------------+-----------------------+-----------------------+-------+\n",
      "|Sample Title|   10|           5|     Author|      2024-03-07|https://example.com|         0.8|  false| false|  false|   false|Sample selftext|                 0.5|            positive|   krtngi5|Sample comment|Comment Author|         2024-03-07|            5|         false|           false|          1ay98md|                  2|https://example.c...|                    0.7|               positive|1ay98md|\n",
      "+------------+-----+------------+-----------+----------------+-------------------+------------+-------+------+-------+--------+---------------+--------------------+--------------------+----------+--------------+--------------+-------------------+-------------+--------------+----------------+-----------------+-------------------+--------------------+-----------------------+-----------------------+-------+\n",
      "\n"
     ]
    }
   ],
   "source": [
    "df_post.where(df_post.comment_id=='krtngi5').show(3)"
   ]
  },
  {
   "cell_type": "code",
   "execution_count": 37,
   "id": "215e4721-b3af-489d-a90f-c8df72258bdf",
   "metadata": {},
   "outputs": [
    {
     "data": {
      "text/plain": [
       "2"
      ]
     },
     "execution_count": 37,
     "metadata": {},
     "output_type": "execute_result"
    }
   ],
   "source": [
    "df_post.count()\n",
    "# df_post.printSchema()"
   ]
  },
  {
   "cell_type": "code",
   "execution_count": 38,
   "id": "e006f90f-89a3-45ea-9f02-7540d6c49108",
   "metadata": {},
   "outputs": [
    {
     "name": "stderr",
     "output_type": "stream",
     "text": [
      "                                                                                \r"
     ]
    }
   ],
   "source": [
    "(\n",
    "        df_post\n",
    "        .write\n",
    "        .format('bigquery')\n",
    "        .option('table', 'de-reddit-reports.reddit_dataset.dataengineering_staging')\n",
    "        .mode(\"overwrite\")\n",
    "        .save()\n",
    ")"
   ]
  },
  {
   "cell_type": "code",
   "execution_count": null,
   "id": "9e723e79-ecd8-44f5-9014-858b0fc1fb2f",
   "metadata": {},
   "outputs": [],
   "source": []
  }
 ],
 "metadata": {
  "kernelspec": {
   "display_name": "Python 3 (ipykernel)",
   "language": "python",
   "name": "python3"
  },
  "language_info": {
   "codemirror_mode": {
    "name": "ipython",
    "version": 3
   },
   "file_extension": ".py",
   "mimetype": "text/x-python",
   "name": "python",
   "nbconvert_exporter": "python",
   "pygments_lexer": "ipython3",
   "version": "3.11.7"
  }
 },
 "nbformat": 4,
 "nbformat_minor": 5
}
